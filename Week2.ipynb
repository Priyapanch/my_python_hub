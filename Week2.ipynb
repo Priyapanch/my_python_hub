{
  "nbformat": 4,
  "nbformat_minor": 0,
  "metadata": {
    "colab": {
      "provenance": [],
      "authorship_tag": "ABX9TyO6rl2Jc1X21hT/DpFrHSFE",
      "include_colab_link": true
    },
    "kernelspec": {
      "name": "python3",
      "display_name": "Python 3"
    },
    "language_info": {
      "name": "python"
    }
  },
  "cells": [
    {
      "cell_type": "markdown",
      "metadata": {
        "id": "view-in-github",
        "colab_type": "text"
      },
      "source": [
        "<a href=\"https://colab.research.google.com/github/Priyapanch/my_python_hub/blob/main/Week2.ipynb\" target=\"_parent\"><img src=\"https://colab.research.google.com/assets/colab-badge.svg\" alt=\"Open In Colab\"/></a>"
      ]
    },
    {
      "cell_type": "code",
      "execution_count": null,
      "metadata": {
        "id": "LfnoBVGi5imT"
      },
      "outputs": [],
      "source": [
        "import  sys"
      ]
    },
    {
      "cell_type": "code",
      "source": [
        "def frac(n:int) -> int:\n",
        "    if n == 0:\n",
        "        return 0\n",
        "    if n == 1:\n",
        "        return 1\n",
        "    else:\n",
        "      return n * frac(n-1)"
      ],
      "metadata": {
        "id": "Nr1dAHb_6Tbk"
      },
      "execution_count": null,
      "outputs": []
    },
    {
      "cell_type": "code",
      "source": [
        "def series(ip:int) ->float:\n",
        "  if(ip<1):\n",
        "    return 999.0\n",
        "  total = 0\n",
        "  for i in range(ip,0,-1):\n",
        "    total += float(frac(ip)/(ip*ip))\n",
        "    ip = ip - 1\n",
        "  return float(round(total,2))"
      ],
      "metadata": {
        "id": "oYiL9ZM37VJp"
      },
      "execution_count": null,
      "outputs": []
    },
    {
      "cell_type": "code",
      "source": [
        "if __name__ == \"__main__\":\n",
        "  print(series(int(10)))"
      ],
      "metadata": {
        "colab": {
          "base_uri": "https://localhost:8080/"
        },
        "id": "6yKn03HB9Sj5",
        "outputId": "14feea3d-a031-4177-e509-f751ca8a3b0b"
      },
      "execution_count": null,
      "outputs": [
        {
          "output_type": "stream",
          "name": "stdout",
          "text": [
            "41529.32\n"
          ]
        }
      ]
    }
  ]
}